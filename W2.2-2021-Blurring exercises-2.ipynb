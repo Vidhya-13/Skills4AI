{
 "cells": [
  {
   "cell_type": "markdown",
   "metadata": {},
   "source": [
    "VU Skills for AI 2021, W2 Blurring exercises"
   ]
  },
  {
   "cell_type": "markdown",
   "metadata": {},
   "source": [
    "# Import statements"
   ]
  },
  {
   "cell_type": "code",
   "execution_count": 1,
   "metadata": {},
   "outputs": [],
   "source": [
    "import numpy as np"
   ]
  },
  {
   "cell_type": "markdown",
   "metadata": {},
   "source": [
    "# Applying a blur"
   ]
  },
  {
   "cell_type": "markdown",
   "metadata": {},
   "source": [
    "A basic 6x6 blurring matrix looks as follows"
   ]
  },
  {
   "cell_type": "code",
   "execution_count": 2,
   "metadata": {
    "scrolled": true
   },
   "outputs": [
    {
     "name": "stdout",
     "output_type": "stream",
     "text": [
      "[[0.8 0.2 0.  0.  0.  0. ]\n",
      " [0.2 0.6 0.2 0.  0.  0. ]\n",
      " [0.  0.2 0.6 0.2 0.  0. ]\n",
      " [0.  0.  0.2 0.6 0.2 0. ]\n",
      " [0.  0.  0.  0.2 0.6 0.2]\n",
      " [0.  0.  0.  0.  0.2 0.8]]\n"
     ]
    }
   ],
   "source": [
    "M = np.array([[0.8,0.2,0,0,0,0], [0.2,0.6,0.2,0,0,0], [0,0.2,0.6,0.2,0,0],[0,0,0.2,0.6,0.2,0],[0,0,0,0.2,0.6,0.2],[0,0,0,0,0.2,0.8]])\n",
    "print(M)"
   ]
  },
  {
   "cell_type": "markdown",
   "metadata": {},
   "source": [
    "We could, for example, apply the blurring matrix to a 6-dimensional vector v:"
   ]
  },
  {
   "cell_type": "code",
   "execution_count": 3,
   "metadata": {},
   "outputs": [
    {
     "name": "stdout",
     "output_type": "stream",
     "text": [
      "[ 0.1  0.2 10.   0.1  0.3  0.2]\n"
     ]
    }
   ],
   "source": [
    "v = np.array([0.1,0.2,10,0.1,0.3,0.2])\n",
    "print(v)"
   ]
  },
  {
   "cell_type": "markdown",
   "metadata": {},
   "source": [
    "This gives us"
   ]
  },
  {
   "cell_type": "code",
   "execution_count": 4,
   "metadata": {
    "scrolled": false
   },
   "outputs": [
    {
     "name": "stdout",
     "output_type": "stream",
     "text": [
      "[0.12 2.14 6.06 2.12 0.24 0.22]\n"
     ]
    }
   ],
   "source": [
    "print(np.matmul(M,v))"
   ]
  },
  {
   "cell_type": "markdown",
   "metadata": {},
   "source": [
    "Now, lets see how we can create our own blur matrices!"
   ]
  },
  {
   "cell_type": "markdown",
   "metadata": {},
   "source": [
    "## Stronger blur"
   ]
  },
  {
   "cell_type": "markdown",
   "metadata": {},
   "source": [
    "You can create a stronger blur by reapplying the blur to the same vector. "
   ]
  },
  {
   "cell_type": "code",
   "execution_count": 5,
   "metadata": {
    "scrolled": false
   },
   "outputs": [
    {
     "name": "stdout",
     "output_type": "stream",
     "text": [
      "[ 0.1  0.2 10.   0.1  0.3  0.2]\n",
      "[0.12 2.14 6.06 2.12 0.24 0.22]\n",
      "[0.524 2.52  4.488 2.532 0.612 0.224]\n"
     ]
    }
   ],
   "source": [
    "print(v)\n",
    "b = np.matmul(M,v)\n",
    "print(b)\n",
    "b2 = np.matmul(M,b)\n",
    "print(b2)"
   ]
  },
  {
   "cell_type": "markdown",
   "metadata": {},
   "source": [
    "Since (A*B)*B is the same as A(B*B), you can also create a stronger filter and then apply it to the vector:"
   ]
  },
  {
   "cell_type": "code",
   "execution_count": 6,
   "metadata": {
    "scrolled": true
   },
   "outputs": [
    {
     "name": "stdout",
     "output_type": "stream",
     "text": [
      "[[0.68 0.28 0.04 0.   0.   0.  ]\n",
      " [0.28 0.44 0.24 0.04 0.   0.  ]\n",
      " [0.04 0.24 0.44 0.24 0.04 0.  ]\n",
      " [0.   0.04 0.24 0.44 0.24 0.04]\n",
      " [0.   0.   0.04 0.24 0.44 0.28]\n",
      " [0.   0.   0.   0.04 0.28 0.68]]\n",
      "[0.524 2.52  4.488 2.532 0.612 0.224]\n"
     ]
    }
   ],
   "source": [
    "m2 = np.matmul(M,M)\n",
    "print(m2)\n",
    "print(np.matmul(m2,v))"
   ]
  },
  {
   "cell_type": "markdown",
   "metadata": {},
   "source": [
    "# Exercise"
   ]
  },
  {
   "cell_type": "markdown",
   "metadata": {},
   "source": [
    "<b>Q1</b> <br>\n",
    "Create a vector B of length 12 that represents the number of birthdays that you have in that month."
   ]
  },
  {
   "cell_type": "code",
   "execution_count": 7,
   "metadata": {},
   "outputs": [
    {
     "name": "stdout",
     "output_type": "stream",
     "text": [
      "[1 0 0 0 0 0 0 0 0 0 0 0]\n"
     ]
    }
   ],
   "source": [
    "B = np.array([1,0,0,0,0,0,0,0,0,0,0,0])\n",
    "print(B)"
   ]
  },
  {
   "cell_type": "markdown",
   "metadata": {},
   "source": [
    "<b>Q2</b> <br>\n",
    "Create a vector C of length 12 that represents the number of birthdays that your parents have in that month. <br>\n",
    "(it must contain two 1’s or one 2 if they have their birthday in the same month)"
   ]
  },
  {
   "cell_type": "code",
   "execution_count": 26,
   "metadata": {},
   "outputs": [
    {
     "name": "stdout",
     "output_type": "stream",
     "text": [
      "[0 0 0 0 1 0 0 0 0 0 0 1]\n"
     ]
    }
   ],
   "source": [
    "C = np.array([0,0,0,0,1,0,0,0,0,0,0,1])\n",
    "print(C)"
   ]
  },
  {
   "cell_type": "markdown",
   "metadata": {},
   "source": [
    "<b>Q3</b> <br>\n",
    "Blur vector B once. Print the result."
   ]
  },
  {
   "cell_type": "code",
   "execution_count": 27,
   "metadata": {},
   "outputs": [
    {
     "name": "stdout",
     "output_type": "stream",
     "text": [
      "[0.8 0.2 0.  0.  0.  0.  0.  0.  0.  0.  0.  0. ]\n"
     ]
    }
   ],
   "source": [
    "def create_matrix(size):  # first we need a function that creates empty matrices of the size we want (np.empty is not readable)\n",
    "    if int(size) > 0:\n",
    "        s = 1\n",
    "        mat = []\n",
    "        while s <= size:\n",
    "            mat.append([0.0] * size) #the data type of matrix elements is set on creation, so float instead of int\n",
    "            s += 1\n",
    "        mat = np.array(mat)\n",
    "    return mat\n",
    "\n",
    "\n",
    "def create_blur_matrix(size):\n",
    "    blurred_matrix = create_matrix(size)             # create a zeroes matrix of the required size\n",
    "    if size > 1:\n",
    "        for i in range(0, blurred_matrix.shape[1]):  # go through all columns of the matrix\n",
    "            if i == 0:                               # set the edge case for the upper left corner\n",
    "                blurred_matrix[i,i] = 0.8\n",
    "                blurred_matrix[1,i] = 0.2\n",
    "            elif i == (blurred_matrix.shape[1] - 1): # set the edge case for the bottom right corner\n",
    "                blurred_matrix[i, i] = 0.8\n",
    "                blurred_matrix[i-1, i] = 0.2\n",
    "            else:\n",
    "                blurred_matrix[i,i] = 0.6\n",
    "                blurred_matrix[i-1,i] = 0.2\n",
    "                blurred_matrix[i+1,i] = 0.2\n",
    "\n",
    "        return blurred_matrix\n",
    "\n",
    "M = create_blur_matrix(12)  #creation of blur matrix of size 12\n",
    "B1 = np.matmul(M,B)  #Blurring vector B by multiplying it with blur matrix M and store it in B1.\n",
    "print(B1)              \n"
   ]
  },
  {
   "cell_type": "markdown",
   "metadata": {},
   "source": [
    "<b>Q4</b> <br>\n",
    "Blur vector C once. Print the result. "
   ]
  },
  {
   "cell_type": "code",
   "execution_count": 28,
   "metadata": {},
   "outputs": [
    {
     "name": "stdout",
     "output_type": "stream",
     "text": [
      "[0.  0.  0.  0.2 0.6 0.2 0.  0.  0.  0.  0.2 0.8]\n"
     ]
    }
   ],
   "source": [
    "C1 = np.matmul(M,C)\n",
    "print(C1)"
   ]
  },
  {
   "cell_type": "markdown",
   "metadata": {},
   "source": [
    "<b>Q5</b> <br>\n",
    "Compute D = (B+C). Compute D2 by blurring D twice, print D2."
   ]
  },
  {
   "cell_type": "code",
   "execution_count": 29,
   "metadata": {},
   "outputs": [
    {
     "name": "stdout",
     "output_type": "stream",
     "text": [
      "[0.68 0.28 0.08 0.24 0.44 0.24 0.04 0.   0.   0.04 0.28 0.68]\n"
     ]
    }
   ],
   "source": [
    "D = B + C\n",
    "D1 = np.matmul(M,D)\n",
    "D2 = np.matmul(M,D1)\n",
    "print (D2)"
   ]
  },
  {
   "cell_type": "markdown",
   "metadata": {},
   "source": [
    "<b>Q6</b> <br>\n",
    "Compute B2 by blurring B twice. Compute C2 by blurring C twice. Compute BC2= B2 + C2. Print BC2."
   ]
  },
  {
   "cell_type": "code",
   "execution_count": 30,
   "metadata": {},
   "outputs": [
    {
     "name": "stdout",
     "output_type": "stream",
     "text": [
      "[0.68 0.28 0.08 0.24 0.44 0.24 0.04 0.   0.   0.04 0.28 0.68]\n"
     ]
    }
   ],
   "source": [
    "B2 = np.matmul(M,B1)\n",
    "C2 = np.matmul(M,C1)\n",
    "BC2 = B2 + C2\n",
    "print(BC2)"
   ]
  },
  {
   "cell_type": "markdown",
   "metadata": {},
   "source": [
    "<b>Q7</b> <br>\n",
    "Is BC2 always equal to D2? Find a counterexample, or provide an argument why these two must be equal."
   ]
  },
  {
   "cell_type": "raw",
   "metadata": {},
   "source": [
    "Yes. As per the distributive property of linear algebra D2 and BC2 is always equal. \n",
    "We obtain D2 matrix by adding the vectors B and C first and then blur the output twice.\n",
    "In case of BC2 matrix we blur the vectors B and C twice and then add the output together.\n",
    "\n",
    "Please find the example below. In the below example Z2 and XY2 are equal."
   ]
  },
  {
   "cell_type": "code",
   "execution_count": 32,
   "metadata": {},
   "outputs": [
    {
     "name": "stdout",
     "output_type": "stream",
     "text": [
      "[0.12 0.88 2.48 3.68 3.52 2.8  2.84 1.44 0.52 1.68 3.08 1.96]\n",
      "[0.12 0.88 2.48 3.68 3.52 2.8  2.84 1.44 0.52 1.68 3.08 1.96]\n"
     ]
    }
   ],
   "source": [
    "#Example\n",
    "X = np.array([0, 0, 3, 0, 5, 0, 0, 0, 0, 0, 0, 0]) \n",
    "Y = np.array([0, 0, 0, 4, 0, 0, 6, 0, 0, 0, 7, 0])\n",
    "#addition of the vectors\n",
    "Z = X + Y       \n",
    "#Blurring the vectors\n",
    "Z1 = np.matmul(M,Z)   \n",
    "Z2 = np.matmul(M,Z1)  \n",
    "print (Z2)\n",
    "#Blurring the Vectors \n",
    "X1 = np.matmul(M,X)\n",
    "Y1 = np.matmul(M,Y)\n",
    "X2 = np.matmul(M,X1)\n",
    "Y2 = np.matmul(M,Y1)\n",
    "#Addition of the blurred vectors\n",
    "XY2 = X2 + Y2\n",
    "print(XY2)\n"
   ]
  }
 ],
 "metadata": {
  "kernelspec": {
   "display_name": "Python 3",
   "language": "python",
   "name": "python3"
  },
  "language_info": {
   "codemirror_mode": {
    "name": "ipython",
    "version": 3
   },
   "file_extension": ".py",
   "mimetype": "text/x-python",
   "name": "python",
   "nbconvert_exporter": "python",
   "pygments_lexer": "ipython3",
   "version": "3.8.5"
  }
 },
 "nbformat": 4,
 "nbformat_minor": 4
}
