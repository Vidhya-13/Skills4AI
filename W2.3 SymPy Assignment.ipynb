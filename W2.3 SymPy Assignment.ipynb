{
 "cells": [
  {
   "cell_type": "markdown",
   "metadata": {},
   "source": [
    "### Working with SymPy for Proposition Logic"
   ]
  },
  {
   "cell_type": "markdown",
   "metadata": {},
   "source": [
    "# 2.3 SymPy assignment\n"
   ]
  },
  {
   "cell_type": "markdown",
   "metadata": {},
   "source": [
    "# Setup"
   ]
  },
  {
   "cell_type": "markdown",
   "metadata": {},
   "source": [
    "### Import statements for SymPy package"
   ]
  },
  {
   "cell_type": "code",
   "execution_count": 10,
   "metadata": {},
   "outputs": [],
   "source": [
    "from sympy import *\n",
    "from tabulate import tabulate"
   ]
  },
  {
   "cell_type": "markdown",
   "metadata": {},
   "source": [
    "### Setup of symbols"
   ]
  },
  {
   "cell_type": "code",
   "execution_count": 11,
   "metadata": {},
   "outputs": [
    {
     "data": {
      "text/latex": [
       "$\\displaystyle \\text{False}$"
      ],
      "text/plain": [
       "False"
      ]
     },
     "execution_count": 11,
     "metadata": {},
     "output_type": "execute_result"
    }
   ],
   "source": [
    "p, q, r, s, t = symbols('p q r s t') #declare the symboles used\n",
    "Or(p,q)         # or             / disjunction\n",
    "And(p,q)        # and            / conjunction\n",
    "Not(p)          # not            / negation\n",
    "Xor(p,q)        # xor            / exclusive or\n",
    "Implies(p,q)    # if/then        / implication\n",
    "Equivalent(p,q) # if and only if / bi-implication\n",
    "true        # True\n",
    "false       # False"
   ]
  },
  {
   "cell_type": "markdown",
   "metadata": {},
   "source": [
    "### Evaluating truth tables"
   ]
  },
  {
   "cell_type": "code",
   "execution_count": 12,
   "metadata": {},
   "outputs": [],
   "source": [
    "def new_basic_table():\n",
    "    table = {\"p\": [\"T\"] * 16 + [\"F\"] * 16,\n",
    "             \"q\": ([\"T\"] * 8 + [\"F\"] * 8) * 2,\n",
    "             \"r\": ([\"T\"] * 4 + [\"F\"] * 4) * 4,\n",
    "             \"s\": ([\"T\"] * 2 + [\"F\"] * 2) * 8,\n",
    "             \"t\": [\"T\", \"F\"] * 16}\n",
    "\n",
    "    return table"
   ]
  },
  {
   "cell_type": "code",
   "execution_count": 13,
   "metadata": {},
   "outputs": [],
   "source": [
    "def tte(inp):\n",
    "    if inp == \"T\":\n",
    "        return true\n",
    "    elif inp == \"F\":\n",
    "        return false"
   ]
  },
  {
   "cell_type": "code",
   "execution_count": 14,
   "metadata": {},
   "outputs": [],
   "source": [
    "def add_logical_statement(table, statement):\n",
    "    row_entries = []\n",
    "    symbols = list(statement.atoms())\n",
    "    \n",
    "\n",
    "    #remove these three lines to always show all five symbols\n",
    "    irrelevant = [i for i in list(table.keys()) if i not in [str(i) for i in symbols]]\n",
    "    for symbol in irrelevant:\n",
    "        del table[symbol]\n",
    "        \n",
    "\n",
    "    if len(symbols) == 2:\n",
    "        sym_1, sym_2 = symbols[0], symbols[1]\n",
    "        for i in range(32):\n",
    "            row_entries.append(statement.subs({sym_1: tte(table[str(sym_1)][i]), sym_2: tte(table[str(sym_2)][i])}))\n",
    "\n",
    "    elif len(symbols) == 3:\n",
    "        sym_1, sym_2, sym_3 = symbols[0], symbols[1], symbols[2]\n",
    "        for i in range(32):\n",
    "            row_entries.append(statement.subs({sym_1: tte(table[str(sym_1)][i]),\n",
    "                                               sym_2: tte(table[str(sym_2)][i]),\n",
    "                                               sym_3: tte(table[str(sym_3)][i])}))\n",
    "\n",
    "    elif len(symbols) == 4:\n",
    "        sym_1, sym_2, sym_3, sym_4 = symbols[0], symbols[1], symbols[2], symbols[3]\n",
    "        for i in range(32):\n",
    "            row_entries.append(statement.subs({sym_1: tte(table[str(sym_1)][i]),\n",
    "                                               sym_2: tte(table[str(sym_2)][i]),\n",
    "                                               sym_3: tte(table[str(sym_3)][i]),\n",
    "                                               sym_4: tte(table[str(sym_4)][i])}))\n",
    "\n",
    "    elif (len(symbols)) == 5:\n",
    "        sym_1, sym_2, sym_3, sym_4, sym_5 = symbols[0], symbols[1], symbols[2], symbols[3], symbols[4]\n",
    "        for i in range(32):\n",
    "            row_entries.append(statement.subs({sym_1: tte(table[str(sym_1)][i]),\n",
    "                                               sym_2: tte(table[str(sym_2)][i]),\n",
    "                                               sym_3: tte(table[str(sym_3)][i]),\n",
    "                                               sym_4: tte(table[str(sym_4)][i]),\n",
    "                                               sym_5: tte(table[str(sym_5)][i])}))\n",
    "\n",
    "    table[statement] = row_entries\n",
    "\n",
    "    return table"
   ]
  },
  {
   "cell_type": "markdown",
   "metadata": {},
   "source": [
    "# Assignment\n"
   ]
  },
  {
   "cell_type": "markdown",
   "metadata": {},
   "source": [
    "Pick a propositional logic formula from the table based:\n",
    "![assignment-wk2-logic-table.png](assignment-wk2-logic-table.png)\n",
    "\n",
    "1. Take the first character of your first name, and the last character of your last name. E.g. if your name is Turing, your characters are T and G. \n",
    "2. Pick two formulas A and B from the table, and make a truth table for A ⋀ B .\n"
   ]
  },
  {
   "cell_type": "markdown",
   "metadata": {},
   "source": [
    "### Assignment step 1"
   ]
  },
  {
   "cell_type": "markdown",
   "metadata": {},
   "source": [
    "Write a python method that takes p,q,r,s,t as inputs (true/false) and returns whether your formula is true or false\n"
   ]
  },
  {
   "cell_type": "code",
   "execution_count": 15,
   "metadata": {},
   "outputs": [
    {
     "name": "stdout",
     "output_type": "stream",
     "text": [
      "False\n"
     ]
    }
   ],
   "source": [
    "# Name = Vidhya\n",
    "\n",
    "#To Double check if the formula works correctly\n",
    "#formula1 = (Implies(r, t)) & (r | s) & ~(q & t) & ~((Implies(p, q)) | (Implies(q, r))) \n",
    "\n",
    "def method(p,q,r,s,t):\n",
    "    V = (~((p >> q) | (q >> r)) & (r|s))    #Formula for the First letter \n",
    "    A = ((r >> t) & ~(t & q))               #Formula for the last letter\n",
    "    formula = V & A\n",
    "    return formula\n",
    "\n",
    "name = method(true, false, true, true, true)\n",
    "print(name)"
   ]
  },
  {
   "cell_type": "markdown",
   "metadata": {},
   "source": [
    "### Asssignment step 2"
   ]
  },
  {
   "cell_type": "markdown",
   "metadata": {},
   "source": [
    "Print the full truth table for the formula."
   ]
  },
  {
   "cell_type": "code",
   "execution_count": 16,
   "metadata": {},
   "outputs": [
    {
     "name": "stdout",
     "output_type": "stream",
     "text": [
      "p    q    r    s    t    (Implies(r, t)) & (r | s) & ~(q & t) & ~((Implies(p, q)) | (Implies(q, r)))\n",
      "---  ---  ---  ---  ---  -----------------------------------------------------------------------------\n",
      "T    T    T    T    T    False\n",
      "T    T    T    T    F    False\n",
      "T    T    T    F    T    False\n",
      "T    T    T    F    F    False\n",
      "T    T    F    T    T    False\n",
      "T    T    F    T    F    False\n",
      "T    T    F    F    T    False\n",
      "T    T    F    F    F    False\n",
      "T    F    T    T    T    False\n",
      "T    F    T    T    F    False\n",
      "T    F    T    F    T    False\n",
      "T    F    T    F    F    False\n",
      "T    F    F    T    T    False\n",
      "T    F    F    T    F    False\n",
      "T    F    F    F    T    False\n",
      "T    F    F    F    F    False\n",
      "F    T    T    T    T    False\n",
      "F    T    T    T    F    False\n",
      "F    T    T    F    T    False\n",
      "F    T    T    F    F    False\n",
      "F    T    F    T    T    False\n",
      "F    T    F    T    F    False\n",
      "F    T    F    F    T    False\n",
      "F    T    F    F    F    False\n",
      "F    F    T    T    T    False\n",
      "F    F    T    T    F    False\n",
      "F    F    T    F    T    False\n",
      "F    F    T    F    F    False\n",
      "F    F    F    T    T    False\n",
      "F    F    F    T    F    False\n",
      "F    F    F    F    T    False\n",
      "F    F    F    F    F    False\n"
     ]
    }
   ],
   "source": [
    "formula1 = (Implies(r, t)) & (r | s) & ~(q & t) & ~((Implies(p, q)) | (Implies(q, r)))\n",
    "print(tabulate(add_logical_statement(new_basic_table(),formula1), headers=\"keys\"))"
   ]
  },
  {
   "cell_type": "markdown",
   "metadata": {},
   "source": [
    "## Assignment step 3"
   ]
  },
  {
   "cell_type": "markdown",
   "metadata": {},
   "source": [
    "Provide another logic formula with the same truth table, but completely different structure."
   ]
  },
  {
   "cell_type": "code",
   "execution_count": 17,
   "metadata": {},
   "outputs": [
    {
     "name": "stdout",
     "output_type": "stream",
     "text": [
      "(s | t) & ~((Implies(p, q)) | (Implies(q, r)))\n"
     ]
    }
   ],
   "source": [
    "formula2 = ~((p >> q) | (q >> r)) & (s|t)\n",
    "print(formula2)"
   ]
  },
  {
   "cell_type": "code",
   "execution_count": 18,
   "metadata": {
    "scrolled": false
   },
   "outputs": [
    {
     "name": "stdout",
     "output_type": "stream",
     "text": [
      "p    q    r    s    t    (s | t) & ~((Implies(p, q)) | (Implies(q, r)))\n",
      "---  ---  ---  ---  ---  ------------------------------------------------\n",
      "T    T    T    T    T    False\n",
      "T    T    T    T    F    False\n",
      "T    T    T    F    T    False\n",
      "T    T    T    F    F    False\n",
      "T    T    F    T    T    False\n",
      "T    T    F    T    F    False\n",
      "T    T    F    F    T    False\n",
      "T    T    F    F    F    False\n",
      "T    F    T    T    T    False\n",
      "T    F    T    T    F    False\n",
      "T    F    T    F    T    False\n",
      "T    F    T    F    F    False\n",
      "T    F    F    T    T    False\n",
      "T    F    F    T    F    False\n",
      "T    F    F    F    T    False\n",
      "T    F    F    F    F    False\n",
      "F    T    T    T    T    False\n",
      "F    T    T    T    F    False\n",
      "F    T    T    F    T    False\n",
      "F    T    T    F    F    False\n",
      "F    T    F    T    T    False\n",
      "F    T    F    T    F    False\n",
      "F    T    F    F    T    False\n",
      "F    T    F    F    F    False\n",
      "F    F    T    T    T    False\n",
      "F    F    T    T    F    False\n",
      "F    F    T    F    T    False\n",
      "F    F    T    F    F    False\n",
      "F    F    F    T    T    False\n",
      "F    F    F    T    F    False\n",
      "F    F    F    F    T    False\n",
      "F    F    F    F    F    False\n"
     ]
    }
   ],
   "source": [
    "print(tabulate(add_logical_statement(new_basic_table(),formula2), headers=\"keys\"))"
   ]
  }
 ],
 "metadata": {
  "kernelspec": {
   "display_name": "Python 3 (ipykernel)",
   "language": "python",
   "name": "python3"
  },
  "language_info": {
   "codemirror_mode": {
    "name": "ipython",
    "version": 3
   },
   "file_extension": ".py",
   "mimetype": "text/x-python",
   "name": "python",
   "nbconvert_exporter": "python",
   "pygments_lexer": "ipython3",
   "version": "3.8.10"
  }
 },
 "nbformat": 4,
 "nbformat_minor": 4
}
