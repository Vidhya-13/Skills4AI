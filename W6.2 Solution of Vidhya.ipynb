{
 "cells": [
  {
   "cell_type": "markdown",
   "metadata": {},
   "source": [
    "# W6.2 Predicate logic assignments"
   ]
  },
  {
   "cell_type": "markdown",
   "metadata": {},
   "source": [
    "For this week, please perform the following assignments."
   ]
  },
  {
   "cell_type": "code",
   "execution_count": 3,
   "metadata": {},
   "outputs": [],
   "source": [
    "from pyprover import *\n",
    "fill_in_by_student = \"Vidhya Narayanasamy(2733527)\""
   ]
  },
  {
   "cell_type": "markdown",
   "metadata": {},
   "source": [
    "## Assignment 1"
   ]
  },
  {
   "cell_type": "markdown",
   "metadata": {},
   "source": [
    "Please use PyProver to formalize the problem below:  \n",
    "John gave something to Peter."
   ]
  },
  {
   "cell_type": "markdown",
   "metadata": {},
   "source": [
    "First define the required predicates:"
   ]
  },
  {
   "cell_type": "code",
   "execution_count": 4,
   "metadata": {},
   "outputs": [
    {
     "data": {
      "text/plain": [
       "map(<class 'pyprover.logic.Prop'>, ['G', 'S'])"
      ]
     },
     "execution_count": 4,
     "metadata": {},
     "output_type": "execute_result"
    }
   ],
   "source": [
    "props(\"G S\") # G being the predicate for 'giving' something to someone and S represents the predicate of being 'something'"
   ]
  },
  {
   "cell_type": "markdown",
   "metadata": {},
   "source": [
    "Then define the required objects and variables"
   ]
  },
  {
   "cell_type": "code",
   "execution_count": 5,
   "metadata": {},
   "outputs": [
    {
     "data": {
      "text/plain": [
       "map(<class 'pyprover.logic.Const'>, ['x', 'j', 'p'])"
      ]
     },
     "execution_count": 5,
     "metadata": {},
     "output_type": "execute_result"
    }
   ],
   "source": [
    "terms(\"x j p\") # x indicates the object 'something'; j indicates the object 'John'; p indicates the object 'Peter'"
   ]
  },
  {
   "cell_type": "markdown",
   "metadata": {},
   "source": [
    "Then formalize the problem:"
   ]
  },
  {
   "cell_type": "code",
   "execution_count": 6,
   "metadata": {},
   "outputs": [],
   "source": [
    "f1 = TE(x,(S(x) & G(j, x, p)))"
   ]
  },
  {
   "cell_type": "code",
   "execution_count": 7,
   "metadata": {},
   "outputs": [
    {
     "name": "stdout",
     "output_type": "stream",
     "text": [
      "TE x, (S(x) & G(j, x, p))\n"
     ]
    }
   ],
   "source": [
    "print(f1)"
   ]
  },
  {
   "cell_type": "markdown",
   "metadata": {},
   "source": [
    "# Assignment 2"
   ]
  },
  {
   "cell_type": "markdown",
   "metadata": {},
   "source": [
    "Please use PyProver to formalize the following statements:  \n",
    "1. Everything is subject to decay.  \n",
    "2. John gave Peter nothing.  \n",
    "3. John gave Peter a book.  \n",
    "4. A whale is a mammal.  \n",
    "5. Boys who are late are to be punished.  "
   ]
  },
  {
   "cell_type": "markdown",
   "metadata": {},
   "source": [
    "### 2.1 Everything is subject to decay.  "
   ]
  },
  {
   "cell_type": "markdown",
   "metadata": {},
   "source": [
    "Please use PyProver to formalize the following statement: Everything is subject to decay."
   ]
  },
  {
   "cell_type": "markdown",
   "metadata": {},
   "source": [
    "First define the required predicates:"
   ]
  },
  {
   "cell_type": "code",
   "execution_count": 8,
   "metadata": {},
   "outputs": [
    {
     "data": {
      "text/plain": [
       "map(<class 'pyprover.logic.Prop'>, ['D'])"
      ]
     },
     "execution_count": 8,
     "metadata": {},
     "output_type": "execute_result"
    }
   ],
   "source": [
    "props(\"D\") # with D for predicate Decay"
   ]
  },
  {
   "cell_type": "markdown",
   "metadata": {},
   "source": [
    "Then define the required objects and variables"
   ]
  },
  {
   "cell_type": "code",
   "execution_count": 9,
   "metadata": {},
   "outputs": [
    {
     "data": {
      "text/plain": [
       "map(<class 'pyprover.logic.Const'>, ['e'])"
      ]
     },
     "execution_count": 9,
     "metadata": {},
     "output_type": "execute_result"
    }
   ],
   "source": [
    "terms(\"e\") # with variable 'e' representing everything"
   ]
  },
  {
   "cell_type": "markdown",
   "metadata": {},
   "source": [
    "Then formalize the problem:"
   ]
  },
  {
   "cell_type": "code",
   "execution_count": 10,
   "metadata": {},
   "outputs": [],
   "source": [
    "# Everything is subject to decay.\n",
    "f2_1 = FA(e, D(e))"
   ]
  },
  {
   "cell_type": "code",
   "execution_count": 11,
   "metadata": {},
   "outputs": [
    {
     "name": "stdout",
     "output_type": "stream",
     "text": [
      "FA e, D(e)\n"
     ]
    }
   ],
   "source": [
    "print(f2_1)"
   ]
  },
  {
   "cell_type": "markdown",
   "metadata": {},
   "source": [
    "### 2.2 John gave Peter nothing.  "
   ]
  },
  {
   "cell_type": "markdown",
   "metadata": {},
   "source": [
    "Please use PyProver to formalize the following statement:  John gave Peter nothing.  "
   ]
  },
  {
   "cell_type": "markdown",
   "metadata": {},
   "source": [
    "First define the required predicates:"
   ]
  },
  {
   "cell_type": "code",
   "execution_count": 12,
   "metadata": {},
   "outputs": [
    {
     "data": {
      "text/plain": [
       "map(<class 'pyprover.logic.Prop'>, ['G', 'S'])"
      ]
     },
     "execution_count": 12,
     "metadata": {},
     "output_type": "execute_result"
    }
   ],
   "source": [
    "props(\"G S\") # G being the predicate for 'giving' something to someone and S represents the predicate of being 'something'"
   ]
  },
  {
   "cell_type": "markdown",
   "metadata": {},
   "source": [
    "Then define the required objects and variables"
   ]
  },
  {
   "cell_type": "code",
   "execution_count": 13,
   "metadata": {},
   "outputs": [
    {
     "data": {
      "text/plain": [
       "map(<class 'pyprover.logic.Const'>, ['x', 'j', 'p'])"
      ]
     },
     "execution_count": 13,
     "metadata": {},
     "output_type": "execute_result"
    }
   ],
   "source": [
    "terms(\"x j p\") # x indicates the object 'something'; j indicates the object 'John'; p indicates the object 'Peter'"
   ]
  },
  {
   "cell_type": "markdown",
   "metadata": {},
   "source": [
    "Then formalize the problem:"
   ]
  },
  {
   "cell_type": "code",
   "execution_count": 14,
   "metadata": {},
   "outputs": [],
   "source": [
    "f2_2 = ~f1"
   ]
  },
  {
   "cell_type": "code",
   "execution_count": 15,
   "metadata": {},
   "outputs": [
    {
     "name": "stdout",
     "output_type": "stream",
     "text": [
      "~(TE x, (S(x) & G(j, x, p)))\n"
     ]
    }
   ],
   "source": [
    "print(f2_2)"
   ]
  },
  {
   "cell_type": "markdown",
   "metadata": {},
   "source": [
    "### 2.3 John gave Peter a book.  "
   ]
  },
  {
   "cell_type": "markdown",
   "metadata": {},
   "source": [
    "Please use PyProver to formalize the following statement:   John gave Peter a book.  "
   ]
  },
  {
   "cell_type": "code",
   "execution_count": 16,
   "metadata": {},
   "outputs": [
    {
     "name": "stdout",
     "output_type": "stream",
     "text": [
      "TE x, (B(x) & G(j, x, p))\n"
     ]
    }
   ],
   "source": [
    "props(\"G B\") #  G being the predicate for 'giving' something to someone and B represents the predicate of being 'book'\n",
    "terms(\"x j p\") # x indicates the object 'something'; j indicates the object 'John'; p indicates the object 'Peter'\n",
    "\n",
    "f2_3 = TE(x,(B(x) & G(j, x, p)))\n",
    "print(f2_3)"
   ]
  },
  {
   "cell_type": "markdown",
   "metadata": {},
   "source": [
    "### 2.4 A whale is a mammal.  "
   ]
  },
  {
   "cell_type": "markdown",
   "metadata": {},
   "source": [
    "Please use PyProver to formalize the following statement:   A whale is a mammal.  "
   ]
  },
  {
   "cell_type": "code",
   "execution_count": 17,
   "metadata": {},
   "outputs": [
    {
     "name": "stdout",
     "output_type": "stream",
     "text": [
      "FA x, (W(x) -> M(x))\n"
     ]
    }
   ],
   "source": [
    "props(\"W M\") # W being the predicate for 'being' something and M represents the predicate of being 'mammal'\n",
    "terms(\"x\") # object x represents something\n",
    "f2_4 = FA(x, W(x) >> M(x))\n",
    "print(f2_4)"
   ]
  },
  {
   "cell_type": "markdown",
   "metadata": {},
   "source": [
    "### 2.5 Boys who are late are to be punished."
   ]
  },
  {
   "cell_type": "markdown",
   "metadata": {},
   "source": [
    "Please use PyProver to formalize the following statement:  Boys who are late are to be punished.  "
   ]
  },
  {
   "cell_type": "code",
   "execution_count": 18,
   "metadata": {},
   "outputs": [
    {
     "name": "stdout",
     "output_type": "stream",
     "text": [
      "FA x, ((B(x) & L(x)) -> P(x))\n"
     ]
    }
   ],
   "source": [
    "# L is the predicate being 'Late'; P is the predicate for being 'punished'; B represents the predicate of being 'Boys'\n",
    "props(\"L P B\")\n",
    "terms(\"x\") # object x represents'something'\n",
    "f2_5 = FA(x, (B(x)&L(x)) >> P(x))\n",
    "print(f2_5)\n",
    "\n",
    "# For Double checking\n",
    "#props(\"E P B\") # with E for predicate being early\n",
    "#terms(\"x\") \n",
    "#f2 = FA(x, (B(x)&(~E(x))) >> P(x))\n",
    "#print(\"f2:\", f2)"
   ]
  },
  {
   "cell_type": "markdown",
   "metadata": {},
   "source": [
    "## Assignment 3"
   ]
  },
  {
   "cell_type": "markdown",
   "metadata": {},
   "source": [
    "Please use PyProver to formalize the problem below and prove that the statements lead to a contraction (i.e. $\\bot$):  \n",
    "Mary is wearing a blue skirt.  \n",
    "Nobody is wearing a blue skirt."
   ]
  },
  {
   "cell_type": "markdown",
   "metadata": {},
   "source": [
    "First define the required predicates:"
   ]
  },
  {
   "cell_type": "code",
   "execution_count": 19,
   "metadata": {},
   "outputs": [
    {
     "data": {
      "text/plain": [
       "map(<class 'pyprover.logic.Prop'>, ['S', 'W'])"
      ]
     },
     "execution_count": 19,
     "metadata": {},
     "output_type": "execute_result"
    }
   ],
   "source": [
    "props(\"S W\") # BS is the predicate of being a blue skirt and W is the predicate for being worn"
   ]
  },
  {
   "cell_type": "markdown",
   "metadata": {},
   "source": [
    "Then define the required objects and variables"
   ]
  },
  {
   "cell_type": "code",
   "execution_count": 20,
   "metadata": {},
   "outputs": [
    {
     "data": {
      "text/plain": [
       "map(<class 'pyprover.logic.Const'>, ['x', 'm'])"
      ]
     },
     "execution_count": 20,
     "metadata": {},
     "output_type": "execute_result"
    }
   ],
   "source": [
    "terms(\"x m\") # object x represents skirt and m represents Mary "
   ]
  },
  {
   "cell_type": "markdown",
   "metadata": {},
   "source": [
    "Then formalize the problem:"
   ]
  },
  {
   "cell_type": "code",
   "execution_count": 21,
   "metadata": {},
   "outputs": [],
   "source": [
    "f3_1 = (S(m) & W(m))   # Formula for 'Mary is wearing a blue skirt'\n",
    "f3_2 = FA(x, (W(x) >> ~S(x)))        # Formula for 'Nobody is wearing a blue skirt'"
   ]
  },
  {
   "cell_type": "code",
   "execution_count": 22,
   "metadata": {},
   "outputs": [
    {
     "name": "stdout",
     "output_type": "stream",
     "text": [
      "S(m) & W(m)\n",
      "FA x, (W(x) -> ~S(x))\n"
     ]
    }
   ],
   "source": [
    "print(f3_1)\n",
    "print(f3_2)"
   ]
  },
  {
   "cell_type": "markdown",
   "metadata": {},
   "source": [
    "And finally check for the contradiction:"
   ]
  },
  {
   "cell_type": "code",
   "execution_count": 23,
   "metadata": {},
   "outputs": [
    {
     "name": "stdout",
     "output_type": "stream",
     "text": [
      "True\n"
     ]
    }
   ],
   "source": [
    "print(proves((f3_1, f3_2), bot))"
   ]
  },
  {
   "cell_type": "markdown",
   "metadata": {},
   "source": [
    "## Assignment 4"
   ]
  },
  {
   "cell_type": "markdown",
   "metadata": {},
   "source": [
    "Please use PyProver to formalize the problem below and prove that the statements lead to a contraction (i.e.  ⊥ ):  \n",
    "If the train is late and there is no bus at the station, no person will arrive on time.  \n",
    "The train is late  \n",
    "There is no bus at the station  \n",
    "Simon is a person  \n",
    "Simon is not late  "
   ]
  },
  {
   "cell_type": "markdown",
   "metadata": {},
   "source": [
    "First define the required predicates:"
   ]
  },
  {
   "cell_type": "code",
   "execution_count": 32,
   "metadata": {},
   "outputs": [
    {
     "data": {
      "text/plain": [
       "map(<class 'pyprover.logic.Prop'>, ['L', 'P', 'R'])"
      ]
     },
     "execution_count": 32,
     "metadata": {},
     "output_type": "execute_result"
    }
   ],
   "source": [
    "# L is the predicate for being late; P is the predicate for being a person; R is the prdicate for being the station;\n",
    "props(\"L P R\")"
   ]
  },
  {
   "cell_type": "markdown",
   "metadata": {},
   "source": [
    "Then define the required objects and variables"
   ]
  },
  {
   "cell_type": "code",
   "execution_count": 34,
   "metadata": {},
   "outputs": [
    {
     "data": {
      "text/plain": [
       "map(<class 'pyprover.logic.Const'>, ['x', 's', 't', 'b'])"
      ]
     },
     "execution_count": 34,
     "metadata": {},
     "output_type": "execute_result"
    }
   ],
   "source": [
    "terms(\"x s t b\") # object s represents Simon; object t represents the train; object b represents the bus; x is the variable"
   ]
  },
  {
   "cell_type": "markdown",
   "metadata": {},
   "source": [
    "Then formalize the problem:"
   ]
  },
  {
   "cell_type": "code",
   "execution_count": 35,
   "metadata": {},
   "outputs": [],
   "source": [
    "f4_1 = (L(t)&~R(b))>>(FA(x, L(s)))       # No one will arrive on time if the train is late and there is no bus at the station\n",
    "f4_2 = L(t)        # The train is late\n",
    "f4_3 = ~R(b)        # There is no bus at the station\n",
    "f4_4 = P(s)        # Simon is a person\n",
    "f4_5 = ~L(s)     # Simon is not late"
   ]
  },
  {
   "cell_type": "code",
   "execution_count": 36,
   "metadata": {},
   "outputs": [
    {
     "name": "stdout",
     "output_type": "stream",
     "text": [
      "(L(t) & ~R(b)) -> (FA x, L(s))\n",
      "L(t)\n",
      "~R(b)\n",
      "P(s)\n",
      "~L(s)\n"
     ]
    }
   ],
   "source": [
    "print(f4_1)\n",
    "print(f4_2)\n",
    "print(f4_3)\n",
    "print(f4_4)\n",
    "print(f4_5)"
   ]
  },
  {
   "cell_type": "markdown",
   "metadata": {},
   "source": [
    "And finally check for the contradiction:"
   ]
  },
  {
   "cell_type": "code",
   "execution_count": 37,
   "metadata": {},
   "outputs": [
    {
     "data": {
      "text/plain": [
       "True"
      ]
     },
     "execution_count": 37,
     "metadata": {},
     "output_type": "execute_result"
    }
   ],
   "source": [
    "proves((f4_1, f4_2, f4_3, f4_4, f4_5), bot)"
   ]
  }
 ],
 "metadata": {
  "kernelspec": {
   "display_name": "Python 3 (ipykernel)",
   "language": "python",
   "name": "python3"
  },
  "language_info": {
   "codemirror_mode": {
    "name": "ipython",
    "version": 3
   },
   "file_extension": ".py",
   "mimetype": "text/x-python",
   "name": "python",
   "nbconvert_exporter": "python",
   "pygments_lexer": "ipython3",
   "version": "3.8.10"
  }
 },
 "nbformat": 4,
 "nbformat_minor": 4
}
